{
 "cells": [
  {
   "cell_type": "markdown",
   "metadata": {},
   "source": [
    "Import pandas"
   ]
  },
  {
   "cell_type": "code",
   "execution_count": 2,
   "metadata": {},
   "outputs": [],
   "source": [
    "import pandas as pd"
   ]
  },
  {
   "cell_type": "markdown",
   "metadata": {},
   "source": [
    "Connect to the sql server"
   ]
  },
  {
   "cell_type": "code",
   "execution_count": 3,
   "metadata": {},
   "outputs": [
    {
     "name": "stdout",
     "output_type": "stream",
     "text": [
      "Connected to the database successfully.\n"
     ]
    }
   ],
   "source": [
    "import pyodbc\n",
    "\n",
    "try:\n",
    "    conn = pyodbc.connect('Driver={SQL Server};'\n",
    "                          'Server=localhost;'\n",
    "                          'Database=loopai;'\n",
    "                          'Trusted_Connection=yes;')\n",
    "    cursor = conn.cursor()\n",
    "    print(\"Connected to the database successfully.\")\n",
    "except pyodbc.Error as ex:\n",
    "    print(\"Error connecting to the database:\", ex)"
   ]
  },
  {
   "cell_type": "markdown",
   "metadata": {},
   "source": [
    "Load the Menu hours csv file"
   ]
  },
  {
   "cell_type": "code",
   "execution_count": 14,
   "metadata": {},
   "outputs": [
    {
     "name": "stdout",
     "output_type": "stream",
     "text": [
      "Connected to the database successfully.\n"
     ]
    }
   ],
   "source": [
    "data = pd.read_csv (r'G:\\datadump\\CSV\\Menu hours.csv')\n",
    "df = pd.DataFrame(data)\n",
    "\n",
    "print(df.head)"
   ]
  },
  {
   "cell_type": "markdown",
   "metadata": {},
   "source": [
    "Create the business_hours table"
   ]
  },
  {
   "cell_type": "code",
   "execution_count": 4,
   "metadata": {},
   "outputs": [
    {
     "data": {
      "text/plain": [
       "<pyodbc.Cursor at 0x24b7fdec130>"
      ]
     },
     "execution_count": 4,
     "metadata": {},
     "output_type": "execute_result"
    }
   ],
   "source": [
    "cursor.execute('''\n",
    "\t\tCREATE TABLE business_hours (\n",
    "\t\t\tid BIGINT PRIMARY KEY IDENTITY(1,1),\n",
    "\t\t\tstore_id BIGINT NOT NULL,\n",
    "            day INT,\n",
    "            start_time_local TIME,\n",
    "            end_time_local TIME,\n",
    "\t\t\t)\n",
    "               ''')"
   ]
  },
  {
   "cell_type": "markdown",
   "metadata": {},
   "source": [
    "Insert data into business_hours table"
   ]
  },
  {
   "cell_type": "code",
   "execution_count": 5,
   "metadata": {},
   "outputs": [],
   "source": [
    "for row in df.itertuples():\n",
    "    cursor.execute('''\n",
    "                INSERT INTO business_hours (store_id, day, start_time_local, end_time_local)\n",
    "                VALUES (?,?,?,?)\n",
    "                ''',\n",
    "                row.store_id, \n",
    "                row.day,\n",
    "                row.start_time_local,\n",
    "                row.end_time_local\n",
    "                )\n",
    "conn.commit()"
   ]
  },
  {
   "cell_type": "markdown",
   "metadata": {},
   "source": [
    "Load the store status csv file"
   ]
  },
  {
   "cell_type": "code",
   "execution_count": 4,
   "metadata": {},
   "outputs": [
    {
     "name": "stdout",
     "output_type": "stream",
     "text": [
      "<bound method NDFrame.head of                     store_id    status                   timestamp_utc\n",
      "0        8419537941919820732    active  2023-01-22 12:09:39.388884 UTC\n",
      "1          54515546588432327    active  2023-01-24 09:06:42.605777 UTC\n",
      "2        8377465688456570187    active  2023-01-24 09:07:26.441407 UTC\n",
      "3        5955337179846162144    active  2023-01-24 09:08:07.634899 UTC\n",
      "4        1169347689335808384    active  2023-01-24 09:08:18.436854 UTC\n",
      "...                      ...       ...                             ...\n",
      "1822075  9103029069217106077  inactive  2023-01-20 09:02:21.705125 UTC\n",
      "1822076  5532343280896549215  inactive  2023-01-21 02:03:58.311087 UTC\n",
      "1822077  3794430814933142786  inactive  2023-01-21 04:04:20.916254 UTC\n",
      "1822078  4192592653801050907  inactive  2023-01-21 15:11:50.902575 UTC\n",
      "1822079  3846497499881872792  inactive  2023-01-21 08:04:26.177456 UTC\n",
      "\n",
      "[1822080 rows x 3 columns]>\n"
     ]
    }
   ],
   "source": [
    "data = pd.read_csv (r'G:\\datadump\\CSV\\store status.csv')\n",
    "df = pd.DataFrame(data)\n",
    "\n",
    "print(df.head)"
   ]
  },
  {
   "cell_type": "markdown",
   "metadata": {},
   "source": [
    "Create the store_status table"
   ]
  },
  {
   "cell_type": "code",
   "execution_count": 13,
   "metadata": {},
   "outputs": [
    {
     "data": {
      "text/plain": [
       "<pyodbc.Cursor at 0x21cc37782b0>"
      ]
     },
     "execution_count": 13,
     "metadata": {},
     "output_type": "execute_result"
    }
   ],
   "source": [
    "cursor.execute('''\n",
    "\t\tCREATE TABLE store_status (\n",
    "\t\t\tid BIGINT PRIMARY KEY IDENTITY(1,1),\n",
    "\t\t\tstore_id BIGINT NOT NULL,\n",
    "            status NVARCHAR(MAX),\n",
    "            timestamp_utc DATETIMEOFFSET\n",
    "\t\t\t)\n",
    "               ''')"
   ]
  },
  {
   "cell_type": "markdown",
   "metadata": {},
   "source": [
    "Insert the data into store_status"
   ]
  },
  {
   "cell_type": "code",
   "execution_count": 14,
   "metadata": {},
   "outputs": [],
   "source": [
    "\n",
    "for row in df.itertuples():\n",
    "    cursor.execute('''\n",
    "                INSERT INTO store_status (store_id, status, timestamp_utc)\n",
    "                VALUES (?,?,LEFT(?, 19))\n",
    "                ''',\n",
    "                row.store_id, \n",
    "                row.status,\n",
    "                row.timestamp_utc\n",
    "                )\n",
    "conn.commit()"
   ]
  },
  {
   "cell_type": "markdown",
   "metadata": {},
   "source": [
    "Load the timezone csv file"
   ]
  },
  {
   "cell_type": "code",
   "execution_count": 10,
   "metadata": {},
   "outputs": [
    {
     "name": "stdout",
     "output_type": "stream",
     "text": [
      "<bound method NDFrame.head of                   store_id                  timezone_str\n",
      "0      8139926242460185114                   Asia/Beirut\n",
      "1      5415949628544298339                 America/Boise\n",
      "2      3408529570017053440                America/Denver\n",
      "3      9055649751952768824                America/Denver\n",
      "4      4428372089193592098                America/Denver\n",
      "...                    ...                           ...\n",
      "13554  8281452819447825055  America/Indiana/Indianapolis\n",
      "13555  8095410679721836114  America/Indiana/Indianapolis\n",
      "13556  5588208013269746483  America/Indiana/Indianapolis\n",
      "13557  7020170113785825189  America/Indiana/Indianapolis\n",
      "13558  7869742085537243781  America/Indiana/Indianapolis\n",
      "\n",
      "[13559 rows x 2 columns]>\n"
     ]
    }
   ],
   "source": [
    "data = pd.read_csv (r'G:\\datadump\\CSV\\timezone.csv')\n",
    "df = pd.DataFrame(data)\n",
    "\n",
    "print(df.head)"
   ]
  },
  {
   "cell_type": "markdown",
   "metadata": {},
   "source": [
    "Create the timezones table"
   ]
  },
  {
   "cell_type": "code",
   "execution_count": 11,
   "metadata": {},
   "outputs": [
    {
     "data": {
      "text/plain": [
       "<pyodbc.Cursor at 0x20ce60342b0>"
      ]
     },
     "execution_count": 11,
     "metadata": {},
     "output_type": "execute_result"
    }
   ],
   "source": [
    "cursor.execute('''\n",
    "\t\tCREATE TABLE timezones (\n",
    "\t\t\tid BIGINT PRIMARY KEY IDENTITY(1,1),\n",
    "\t\t\tstore_id BIGINT NOT NULL,\n",
    "            timezone_str NVARCHAR(MAX)\n",
    "\t\t\t)\n",
    "               ''')"
   ]
  },
  {
   "cell_type": "markdown",
   "metadata": {},
   "source": [
    "Insert data into timezones table"
   ]
  },
  {
   "cell_type": "code",
   "execution_count": 12,
   "metadata": {},
   "outputs": [],
   "source": [
    "for row in df.itertuples():\n",
    "    cursor.execute('''\n",
    "                INSERT INTO timezones (store_id, timezone_str)\n",
    "                VALUES (?,?)\n",
    "                ''',\n",
    "                row.store_id, \n",
    "                row.timezone_str\n",
    "                )\n",
    "conn.commit()"
   ]
  }
 ],
 "metadata": {
  "kernelspec": {
   "display_name": "Python 3",
   "language": "python",
   "name": "python3"
  },
  "language_info": {
   "codemirror_mode": {
    "name": "ipython",
    "version": 3
   },
   "file_extension": ".py",
   "mimetype": "text/x-python",
   "name": "python",
   "nbconvert_exporter": "python",
   "pygments_lexer": "ipython3",
   "version": "3.11.0"
  }
 },
 "nbformat": 4,
 "nbformat_minor": 2
}
